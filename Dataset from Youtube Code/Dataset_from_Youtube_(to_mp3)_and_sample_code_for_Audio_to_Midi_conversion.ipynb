{
  "nbformat": 4,
  "nbformat_minor": 0,
  "metadata": {
    "colab": {
      "provenance": []
    },
    "kernelspec": {
      "name": "python3",
      "display_name": "Python 3"
    },
    "language_info": {
      "name": "python"
    }
  },
  "cells": [
    {
      "cell_type": "markdown",
      "source": [
        "### Downloading a video and converting into frames\n",
        "\n",
        "1.   List item\n",
        "2.   List item\n",
        "\n"
      ],
      "metadata": {
        "id": "FPid4tzVTidn"
      }
    },
    {
      "cell_type": "code",
      "source": [
        "!pip install -U yt-dlp"
      ],
      "metadata": {
        "id": "8wfKZ3OsXQ5V"
      },
      "execution_count": null,
      "outputs": []
    },
    {
      "cell_type": "markdown",
      "source": [
        "###AUDIO mp3"
      ],
      "metadata": {
        "id": "BPTWWf_0Z0u5"
      }
    },
    {
      "cell_type": "code",
      "source": [
        "!pip install basic_pitch"
      ],
      "metadata": {
        "id": "bmHwblV_9XCd"
      },
      "execution_count": null,
      "outputs": []
    },
    {
      "cell_type": "code",
      "source": [
        "# !yt-dlp --extract-audio --audio-format mp3 \"https://www.youtube.com/watch?v=7dUfDOcsR1c\""
      ],
      "metadata": {
        "id": "rIsajxmCXTZ4"
      },
      "execution_count": null,
      "outputs": []
    },
    {
      "cell_type": "markdown",
      "source": [
        "###Video mp4"
      ],
      "metadata": {
        "id": "W6uPp8AUZ34H"
      }
    },
    {
      "cell_type": "code",
      "source": [
        "# !yt-dlp -f \"bestvideo[height<=1080][ext=mp4]+bestaudio[ext=m4a]/best[ext=mp4]/best\" \"https://www.youtube.com/watch?v=7dUfDOcsR1c\""
      ],
      "metadata": {
        "id": "0roc6bAQXThI"
      },
      "execution_count": null,
      "outputs": []
    },
    {
      "cell_type": "markdown",
      "source": [
        "\n",
        "\n",
        "### Full Playlist to Drive"
      ],
      "metadata": {
        "id": "-_FBAqKoswO9"
      }
    },
    {
      "cell_type": "code",
      "source": [
        "!yt-dlp -x --audio-format mp3 -o \"/content/drive/MyDrive/MyDatasetMp3/%(playlist)s/%(playlist_index)s - %(title)s.%(ext)s\" https://youtube.com/playlist?list=PLIfZ05t-3OI4JawIdOWviNNtSM8yU0vkM"
      ],
      "metadata": {
        "id": "Gby5jA8Tq8wJ"
      },
      "execution_count": null,
      "outputs": []
    },
    {
      "cell_type": "code",
      "source": [
        "!yt-dlp -x --audio-format mp3 -o \"/content/drive/MyDrive/MyDatasetMp3/%(playlist)s/%(playlist_index)s - %(title)s.%(ext)s\" https://youtube.com/playlist?list=PLA_X7zGcKnXAAmXdUmL8x-jNIqerN4M5d"
      ],
      "metadata": {
        "id": "2vyPWMc_sNlQ"
      },
      "execution_count": null,
      "outputs": []
    },
    {
      "cell_type": "code",
      "source": [
        "import os\n",
        "from basic_pitch.inference import predict_and_save\n",
        "\n",
        "# specify the directory where your mp3 files are located\n",
        "input_dir = \"/content/drive/MyDrive/MyDatasetMp3/01_Jog\"\n",
        "\n",
        "# specify the directory where you want to save the midi files\n",
        "output_dir = \"/content/drive/MyDrive/MyDatasetMp3/01_Jog_midi\"\n",
        "\n",
        "# loop over all mp3 files in the directory\n",
        "for filename in os.listdir(input_dir):\n",
        "    if filename.endswith(\".mp3\"):\n",
        "        input_audio_path = os.path.join(input_dir, filename)\n",
        "        # make sure to set save-midi to True and other output options as per your need\n",
        "        predict_and_save(\n",
        "            [input_audio_path],\n",
        "            output_dir,\n",
        "            save_midi=True,\n",
        "            sonify_midi=False,\n",
        "            save_model_outputs=False,\n",
        "            save_notes=False,\n",
        "        )\n"
      ],
      "metadata": {
        "colab": {
          "base_uri": "https://localhost:8080/"
        },
        "id": "rZDeRhlt9XGT",
        "outputId": "7b58b410-033e-4b7a-c5cc-c85483458abd"
      },
      "execution_count": null,
      "outputs": [
        {
          "output_type": "stream",
          "name": "stdout",
          "text": [
            "\n",
            "Predicting MIDI for /content/drive/MyDrive/MyDatasetMp3/01_Jog/01 - Roopa Panesar - RAG JOG.mp3...\n",
            "\n",
            "\n",
            "  Creating midi...\n",
            "  💅 Saved to /content/drive/MyDrive/MyDatasetMp3/01_Jog_midi/01 - Roopa Panesar - RAG JOG_basic_pitch.mid\n",
            "\n",
            "Predicting MIDI for /content/drive/MyDrive/MyDatasetMp3/01_Jog/02 - Ustad Vilayat Khan： Raga Jog.mp3...\n"
          ]
        }
      ]
    },
    {
      "cell_type": "code",
      "source": [
        "import os\n",
        "from basic_pitch.inference import predict_and_save\n",
        "\n",
        "# specify the directory where your mp3 files are located\n",
        "input_dir = \"/content/drive/MyDrive/MyDatasetMp3/02_Jog_Mal_songs\"\n",
        "\n",
        "# specify the directory where you want to save the midi files\n",
        "output_dir = \"/content/drive/MyDrive/MyDatasetMp3/02_Jog_Mal_songs_midi\"\n",
        "\n",
        "# loop over all mp3 files in the directory\n",
        "for filename in os.listdir(input_dir):\n",
        "    if filename.endswith(\".mp3\"):\n",
        "        input_audio_path = os.path.join(input_dir, filename)\n",
        "        # make sure to set save-midi to True and other output options as per your need\n",
        "        predict_and_save(\n",
        "            [input_audio_path],\n",
        "            output_dir,\n",
        "            save_midi=True,\n",
        "            sonify_midi=False,\n",
        "            save_model_outputs=False,\n",
        "            save_notes=False,\n",
        "        )\n"
      ],
      "metadata": {
        "id": "2-OxpoEf9XQL"
      },
      "execution_count": null,
      "outputs": []
    }
  ]
}